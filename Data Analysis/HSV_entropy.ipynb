{
 "cells": [
  {
   "cell_type": "code",
   "execution_count": 22,
   "metadata": {
    "collapsed": true
   },
   "outputs": [],
   "source": [
    "import warnings\n",
    "\n",
    "warnings.filterwarnings('ignore')\n",
    "\n",
    "from sklearn.model_selection import train_test_split\n",
    "from tqdm import tqdm\n",
    "import imgaug as ia\n",
    "import imgaug.augmenters as iaa\n",
    "\n",
    "% matplotlib inline\n",
    "import numpy as np\n",
    "import matplotlib.pyplot as plt\n",
    "from skimage import io\n",
    "import skimage\n",
    "import os\n",
    "from skimage.color import rgb2hsv\n",
    "from skimage.color import rgb2gray\n",
    "import scipy.misc\n",
    "import imageio\n",
    "import pandas as pd\n",
    "from skimage.filters.rank import entropy\n",
    "from skimage.morphology import disk\n",
    "from skimage import img_as_ubyte\n",
    "import cv2\n",
    "from scipy import ndimage\n",
    "from sklearn.utils import resample"
   ]
  },
  {
   "cell_type": "code",
   "execution_count": 23,
   "outputs": [
    {
     "name": "stdout",
     "output_type": "stream",
     "text": [
      "There are 4 folder in dataset.\n",
      "\t-There are 300 images in 1_normal folder.\n",
      "\t-There are 100 images in 2_cataract folder.\n",
      "\t-There are 101 images in 2_glaucoma folder.\n",
      "\t-There are 100 images in 3_retina_disease folder.\n"
     ]
    }
   ],
   "source": [
    "DATASET_PATH = r\"./dataset/\"\n",
    "IMAGE_WIDTH = 128\n",
    "IMAGE_HEIGHT = 128\n",
    "EPOCHS = 30\n",
    "BATCH_SIZE = 32\n",
    "SEED = 42\n",
    "dataset_folders = []  # to keep main folder names\n",
    "total = 0\n",
    "print(f\"There are {len(os.listdir(DATASET_PATH))} folder in dataset.\")\n",
    "for path in sorted(os.listdir(DATASET_PATH)):\n",
    "    print(f\"\\t-There are {len(os.listdir(DATASET_PATH + path))} images in {path} folder.\")\n",
    "    total += len(os.listdir(DATASET_PATH + path))  # add element size of the current folder to total variable\n",
    "    dataset_folders.append(DATASET_PATH + path)  # add current folder path to dataset_folders\n",
    "\n",
    "# Create an empty dataframe\n",
    "df = pd.DataFrame(0,\n",
    "                  columns=['paths',\n",
    "                           'class_label'],\n",
    "                  index=range(total))\n",
    "# store each image path in the dataframe\n",
    "# class labels -> 0:Normal 1:Cataract 2:Glaucoma 3:RetinaDisease\n",
    "i = 0\n",
    "for p, path in enumerate(dataset_folders):  # main folders\n",
    "    for sub_path in sorted(os.listdir(path)):  #images\n",
    "        df.iloc[i, 0] = path + \"/\" + sub_path\n",
    "        df.iloc[i, 1] = p\n",
    "        i += 1\n",
    "# Display some examples for the created DataFrame\n",
    "# print(df.sample(frac=1, random_state=SEED).head(10))\n",
    "train_df, test_df = train_test_split(df,\n",
    "                                     test_size=0.2,\n",
    "                                     random_state=SEED,\n",
    "                                     stratify=df['class_label'])"
   ],
   "metadata": {
    "collapsed": false
   }
  },
  {
   "cell_type": "code",
   "execution_count": 24,
   "outputs": [],
   "source": [
    "#Cropping image to avoid from unnecessary black areas\n",
    "def deleteBlackAreas(filename):\n",
    "    image_size = (IMAGE_WIDTH, IMAGE_HEIGHT)\n",
    "    img = cv2.imread(filename)  #read image from file\n",
    "    gray = cv2.cvtColor(img, cv2.COLOR_BGR2GRAY)  # convert to grayscale\n",
    "    _, thresh = cv2.threshold(gray, 10, 255, cv2.THRESH_BINARY)  # turn it into a binary image\n",
    "    contours, hierarchy = cv2.findContours(thresh, cv2.RETR_EXTERNAL, cv2.CHAIN_APPROX_SIMPLE)  # find contours\n",
    "    if len(contours) != 0:\n",
    "        #find the biggest area\n",
    "        cnt = max(contours, key=cv2.contourArea)\n",
    "\n",
    "        #find the bounding rect\n",
    "        x, y, w, h = cv2.boundingRect(cnt)\n",
    "\n",
    "        crop = img[y:y + h, x:x + w]  # crop image\n",
    "        crop1 = cv2.cvtColor(cv2.resize(crop, image_size, interpolation=cv2.INTER_AREA),\n",
    "                             cv2.COLOR_BGR2RGB)  # resize to image_size and change color space from BGR to RGB for matplotlib\n",
    "        return crop1\n",
    "    else:\n",
    "        return cv2.cvtColor(cv2.resize(img, image_size, interpolation=cv2.INTER_AREA), cv2.COLOR_BGR2RGB)"
   ],
   "metadata": {
    "collapsed": false
   }
  },
  {
   "cell_type": "code",
   "execution_count": 25,
   "outputs": [],
   "source": [
    "def create_dataset(df):\n",
    "    # Creating dataset\n",
    "    images = []\n",
    "    labels = []\n",
    "    index = 0\n",
    "    for path in tqdm(df['paths']):\n",
    "        #According to parameter, we apply some preprocesses here. default=0\n",
    "        img = deleteBlackAreas(path)  #deleting black areas. Initial preprocess\n",
    "        label = [0, 0, 0, 0]\n",
    "        label[df.iloc[index][\"class_label\"]] += 1\n",
    "        index += 1\n",
    "        images.append(img)\n",
    "        labels.append(label)\n",
    "    images = np.array(images, dtype='uint8')\n",
    "    labels = np.array(labels)\n",
    "    return augmentation(images, labels)\n",
    "\n",
    "\n",
    "def augmentation(images, labels):\n",
    "    ia.seed(42)\n",
    "    crop = iaa.Sequential([\n",
    "        iaa.Sometimes(\n",
    "            0.5,\n",
    "            iaa.GaussianBlur(sigma=(0, 0.25))\n",
    "        ),\n",
    "        iaa.Crop(percent=(0, 0.15))\n",
    "    ])\n",
    "\n",
    "    contrast = iaa.Sequential([\n",
    "        iaa.Sometimes(\n",
    "            0.5,\n",
    "            iaa.GaussianBlur(sigma=(0, 0.25))\n",
    "        ),\n",
    "        iaa.LinearContrast((0.75, 1.5)),\n",
    "    ])\n",
    "\n",
    "    mix = iaa.Sequential([\n",
    "        iaa.Sometimes(\n",
    "            0.5,\n",
    "            iaa.Crop(percent=(0, 0.1)),  # random crops\n",
    "        ),\n",
    "        iaa.Sometimes(\n",
    "            0.5,\n",
    "            iaa.GaussianBlur(sigma=(0, 0.25))\n",
    "        ),\n",
    "        iaa.Sometimes(\n",
    "            0.5,\n",
    "            iaa.LinearContrast((0.75, 1.5)),\n",
    "        ),\n",
    "        iaa.Affine(\n",
    "            scale={\"x\": (0.8, 1.2), \"y\": (0.8, 1.2)},\n",
    "            #translate_percent={\"x\": (-0.2, 0.2), \"y\": (-0.2, 0.2)},\n",
    "            rotate=(-25, 25),\n",
    "            shear=(-4, 4)\n",
    "        )\n",
    "    ], random_order=True)  # apply augmenters in random order\n",
    "\n",
    "    augmentation_dict = {0: contrast, 1: mix}\n",
    "    images_result = None\n",
    "    labels_result = None\n",
    "    seeds = [6, 37]\n",
    "    for i in range(len(augmentation_dict)):\n",
    "        func = augmentation_dict[i]\n",
    "        if i == 0:\n",
    "            images_augmented = func(images=images)\n",
    "            images_result = np.concatenate((images, images_augmented))\n",
    "            labels_result = np.concatenate((labels, labels))\n",
    "        elif i == 3:\n",
    "            for k in range(2):\n",
    "                ia.seed(seeds[k])\n",
    "                images_augmented = func(images=images)\n",
    "                images_result = np.concatenate((images_result, images_augmented))\n",
    "                labels_result = np.concatenate((labels_result, labels))\n",
    "        else:\n",
    "            images_augmented = func(images=images)\n",
    "            images_result = np.concatenate((images_result, images_augmented))\n",
    "            labels_result = np.concatenate((labels_result, labels))\n",
    "    return images_result, labels_result"
   ],
   "metadata": {
    "collapsed": false
   }
  },
  {
   "cell_type": "code",
   "execution_count": 26,
   "outputs": [
    {
     "name": "stderr",
     "output_type": "stream",
     "text": [
      "100%|██████████| 480/480 [00:37<00:00, 12.88it/s]\n",
      "100%|██████████| 121/121 [00:09<00:00, 13.13it/s]\n"
     ]
    }
   ],
   "source": [
    "# Creating dataset and split the data\n",
    "train_images, train_labels = create_dataset(train_df)\n",
    "test_images, test_labels = create_dataset(test_df)\n",
    "labels = [\"Normal\", \"Cataract\", \"Glaucoma\", \"Retina Disease\"]"
   ],
   "metadata": {
    "collapsed": false
   }
  },
  {
   "cell_type": "code",
   "execution_count": 27,
   "outputs": [
    {
     "name": "stdout",
     "output_type": "stream",
     "text": [
      "X train shape -> (1440, 128, 128, 3)\n",
      "X test shape -> (363, 128, 128, 3)\n",
      "Y train shape -> (1440, 4)\n",
      "Y test shape -> (363, 4)\n"
     ]
    }
   ],
   "source": [
    "X_train, y_train = train_images, train_labels\n",
    "X_test, y_test = test_images, test_labels\n",
    "print(f\"X train shape -> {X_train.shape}\")\n",
    "print(f\"X test shape -> {X_test.shape}\")\n",
    "print(f\"Y train shape -> {np.array(y_train).shape}\")\n",
    "print(f\"Y test shape -> {np.array(y_test).shape}\")"
   ],
   "metadata": {
    "collapsed": false
   }
  },
  {
   "cell_type": "markdown",
   "source": [
    "train_labels = np.argmax(y_train, axis=1)\n",
    "test_labels = np.argmax(y_test, axis=1)\n",
    "indexes = [0, 0, 0, 0]\n",
    "label_map = {0: \"normal\", 1: \"cataract\", 2: \"glaucoma\", 3: \"retina_disease\"}\n",
    "for i in range(len(X_train)):\n",
    "    length = len(str(indexes[train_labels[i]]))\n",
    "    file_name = (4 - length) * \"0\" + str(indexes[train_labels[i]]) + \".png\"\n",
    "    to_path = r\"./dataset_with_aug/\" + label_map[train_labels[i]] + \"/\" + file_name\n",
    "    cv2.imwrite(to_path, cv2.cvtColor(X_train[i], cv2.COLOR_RGB2BGR))\n",
    "    indexes[train_labels[i]] += 1\n",
    "\n",
    "for i in range(len(X_test)):\n",
    "    length = len(str(indexes[test_labels[i]]))\n",
    "    file_name = (4 - length) * \"0\" + str(indexes[test_labels[i]]) + \".png\"\n",
    "    to_path = r\"./dataset_with_aug/\" + label_map[test_labels[i]] + \"/\" + file_name\n",
    "    cv2.imwrite(to_path, cv2.cvtColor(X_test[i], cv2.COLOR_RGB2BGR))\n",
    "    indexes[test_labels[i]] += 1"
   ],
   "metadata": {
    "collapsed": false
   }
  },
  {
   "cell_type": "code",
   "execution_count": 84,
   "outputs": [],
   "source": [
    "def calc_stats(img):\n",
    "    denoi_img = cv2.fastNlMeansDenoisingColored(img)  # get the denoised image\n",
    "    hsv_img = rgb2hsv(denoi_img)  # get the hsv image\n",
    "    hue_img = hsv_img[:, :, 0]  #get the hues\n",
    "    saturation_img = hsv_img[:, :, 1]  #get the saturations\n",
    "    value_img = hsv_img[:, :, 2]  #get the values\n",
    "    ent_img = entropy(rgb2gray(denoi_img), disk(5))  #get the entropy\n",
    "    return [img.shape[1], img.shape[0], np.mean(hue_img), np.mean(saturation_img), np.mean(value_img), np.mean(ent_img)]"
   ],
   "metadata": {
    "collapsed": false
   }
  },
  {
   "cell_type": "code",
   "execution_count": 85,
   "outputs": [
    {
     "name": "stdout",
     "output_type": "stream",
     "text": [
      "(1803, 128, 128, 3)\n"
     ]
    }
   ],
   "source": [
    "images = np.concatenate((X_train, X_test))\n",
    "print(images.shape)"
   ],
   "metadata": {
    "collapsed": false
   }
  },
  {
   "cell_type": "code",
   "execution_count": 86,
   "outputs": [
    {
     "name": "stderr",
     "output_type": "stream",
     "text": [
      "100%|██████████| 1803/1803 [04:27<00:00,  6.73it/s]\n"
     ]
    }
   ],
   "source": [
    "stats = []\n",
    "for img in tqdm(images):\n",
    "    stats.append(calc_stats(img))"
   ],
   "metadata": {
    "collapsed": false
   }
  },
  {
   "cell_type": "code",
   "execution_count": 87,
   "outputs": [
    {
     "data": {
      "text/plain": "   width  height  mean_hue  mean_saturation  mean_value  mean_entropy\n0    128     128  0.161063         0.750949    0.592736      2.544914\n1    128     128  0.049952         0.515468    0.546223      2.560128\n2    128     128  0.078662         0.441814    0.414023      1.675663\n3    128     128  0.063398         0.472176    0.453854      2.235161\n4    128     128  0.052825         0.507651    0.626020      2.589965",
      "text/html": "<div>\n<style scoped>\n    .dataframe tbody tr th:only-of-type {\n        vertical-align: middle;\n    }\n\n    .dataframe tbody tr th {\n        vertical-align: top;\n    }\n\n    .dataframe thead th {\n        text-align: right;\n    }\n</style>\n<table border=\"1\" class=\"dataframe\">\n  <thead>\n    <tr style=\"text-align: right;\">\n      <th></th>\n      <th>width</th>\n      <th>height</th>\n      <th>mean_hue</th>\n      <th>mean_saturation</th>\n      <th>mean_value</th>\n      <th>mean_entropy</th>\n    </tr>\n  </thead>\n  <tbody>\n    <tr>\n      <th>0</th>\n      <td>128</td>\n      <td>128</td>\n      <td>0.161063</td>\n      <td>0.750949</td>\n      <td>0.592736</td>\n      <td>2.544914</td>\n    </tr>\n    <tr>\n      <th>1</th>\n      <td>128</td>\n      <td>128</td>\n      <td>0.049952</td>\n      <td>0.515468</td>\n      <td>0.546223</td>\n      <td>2.560128</td>\n    </tr>\n    <tr>\n      <th>2</th>\n      <td>128</td>\n      <td>128</td>\n      <td>0.078662</td>\n      <td>0.441814</td>\n      <td>0.414023</td>\n      <td>1.675663</td>\n    </tr>\n    <tr>\n      <th>3</th>\n      <td>128</td>\n      <td>128</td>\n      <td>0.063398</td>\n      <td>0.472176</td>\n      <td>0.453854</td>\n      <td>2.235161</td>\n    </tr>\n    <tr>\n      <th>4</th>\n      <td>128</td>\n      <td>128</td>\n      <td>0.052825</td>\n      <td>0.507651</td>\n      <td>0.626020</td>\n      <td>2.589965</td>\n    </tr>\n  </tbody>\n</table>\n</div>"
     },
     "execution_count": 87,
     "metadata": {},
     "output_type": "execute_result"
    }
   ],
   "source": [
    "# make a dataframe and save it into a csv file\n",
    "df = pd.DataFrame(stats)\n",
    "df.columns = ['width', 'height', 'mean_hue', 'mean_saturation', 'mean_value', 'mean_entropy']\n",
    "df.head()"
   ],
   "metadata": {
    "collapsed": false
   }
  },
  {
   "cell_type": "markdown",
   "source": [
    "![HSV Color Chart for opencv](hsv_color_chart.jpg)"
   ],
   "metadata": {
    "collapsed": false
   }
  },
  {
   "cell_type": "code",
   "execution_count": 88,
   "outputs": [
    {
     "data": {
      "text/plain": "<Axes: >"
     },
     "execution_count": 88,
     "metadata": {},
     "output_type": "execute_result"
    },
    {
     "data": {
      "text/plain": "<Figure size 640x480 with 1 Axes>",
      "image/png": "[encoded data removed]"
     },
     "metadata": {},
     "output_type": "display_data"
    }
   ],
   "source": [
    "#HUE\n",
    "df.mean_hue.hist(range=(0, 0.3))"
   ],
   "metadata": {
    "collapsed": false
   }
  },
  {
   "cell_type": "code",
   "execution_count": 89,
   "outputs": [
    {
     "data": {
      "text/plain": "<Axes: >"
     },
     "execution_count": 89,
     "metadata": {},
     "output_type": "execute_result"
    },
    {
     "data": {
      "text/plain": "<Figure size 640x480 with 1 Axes>",
      "image/png": "[encoded data removed]"
     },
     "metadata": {},
     "output_type": "display_data"
    }
   ],
   "source": [
    "#SATURATION\n",
    "df.mean_saturation.hist(range=(0, 1), density=True)"
   ],
   "metadata": {
    "collapsed": false
   }
  },
  {
   "cell_type": "code",
   "execution_count": 90,
   "outputs": [
    {
     "data": {
      "text/plain": "<Axes: >"
     },
     "execution_count": 90,
     "metadata": {},
     "output_type": "execute_result"
    },
    {
     "data": {
      "text/plain": "<Figure size 640x480 with 1 Axes>",
      "image/png": "[encoded data removed]"
     },
     "metadata": {},
     "output_type": "display_data"
    }
   ],
   "source": [
    "#VALUE / BRIGHTNESS\n",
    "df.mean_value.hist(range=(0, 1), density=True)"
   ],
   "metadata": {
    "collapsed": false
   }
  },
  {
   "cell_type": "code",
   "execution_count": 91,
   "outputs": [
    {
     "data": {
      "text/plain": "<Axes: >"
     },
     "execution_count": 91,
     "metadata": {},
     "output_type": "execute_result"
    },
    {
     "data": {
      "text/plain": "<Figure size 640x480 with 1 Axes>",
      "image/png": "[encoded data removed]"
     },
     "metadata": {},
     "output_type": "display_data"
    }
   ],
   "source": [
    "#ENTROPY\n",
    "df.mean_entropy.hist(range=(0, 5), density=True)"
   ],
   "metadata": {
    "collapsed": false
   }
  },
  {
   "cell_type": "markdown",
   "source": [
    "# Yorumlar"
   ],
   "metadata": {
    "collapsed": false
   }
  },
  {
   "cell_type": "markdown",
   "source": [
    "### Hue değeri belli bir derece içinde yoğunlaşmış halde bulunmaktadır. Bu da verinin üstünde farklı baskın renkler olmadığını hepsinin birbirine benzer bir baskınlık içinde bulunduğunu gösterir.\n",
    "\n",
    "### Saturation değeri yönelimli bir gaussian eğrisi çizmektedir. Verinin renk doygunluğu belli bir seviyenin üstündedir bu yüzden verimiz gri tonlarında değildir diyebiliriz.\n",
    "\n",
    "### Value/Brightness histogramı içinde eşit olarak dağılmış diyebiliriz. Verimiz içinde ne çok karanlık ne de çok parlak imajlar bulunmamaktadır.\n",
    "\n",
    "### Entropy histogramı bizim verimizin ne çok karışık ne de çok basit olduğunu göstermektedir"
   ],
   "metadata": {
    "collapsed": false
   }
  },
  {
   "cell_type": "code",
   "execution_count": 91,
   "outputs": [],
   "source": [],
   "metadata": {
    "collapsed": false
   }
  }
 ],
 "metadata": {
  "kernelspec": {
   "display_name": "Python 3",
   "language": "python",
   "name": "python3"
  },
  "language_info": {
   "codemirror_mode": {
    "name": "ipython",
    "version": 2
   },
   "file_extension": ".py",
   "mimetype": "text/x-python",
   "name": "python",
   "nbconvert_exporter": "python",
   "pygments_lexer": "ipython2",
   "version": "2.7.6"
  }
 },
 "nbformat": 4,
 "nbformat_minor": 0
}
