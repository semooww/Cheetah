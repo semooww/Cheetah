{
 "cells": [
  {
   "cell_type": "code",
   "execution_count": 16,
   "metadata": {
    "collapsed": true
   },
   "outputs": [],
   "source": [
    "import warnings\n",
    "\n",
    "warnings.filterwarnings('ignore')\n",
    "\n",
    "from sklearn.model_selection import train_test_split\n",
    "from tqdm import tqdm\n",
    "import imgaug as ia\n",
    "import imgaug.augmenters as iaa\n",
    "\n",
    "import numpy as np\n",
    "import matplotlib.pyplot as plt\n",
    "from skimage import io\n",
    "import skimage\n",
    "import os\n",
    "from skimage.color import rgb2hsv\n",
    "from skimage.color import rgb2gray\n",
    "import scipy.misc\n",
    "import imageio\n",
    "import pandas as pd\n",
    "from skimage.filters.rank import entropy\n",
    "from skimage.morphology import disk\n",
    "from skimage import img_as_ubyte\n",
    "import cv2\n",
    "from scipy import ndimage\n",
    "from sklearn.utils import resample"
   ]
  },
  {
   "cell_type": "code",
   "execution_count": 17,
   "outputs": [
    {
     "name": "stdout",
     "output_type": "stream",
     "text": [
      "There are 4 folder in dataset.\n",
      "\t-There are 300 images in 1_normal folder.\n",
      "\t-There are 100 images in 2_cataract folder.\n",
      "\t-There are 101 images in 2_glaucoma folder.\n",
      "\t-There are 100 images in 3_retina_disease folder.\n"
     ]
    }
   ],
   "source": [
    "DATASET_PATH = r\"../dataset/\"\n",
    "IMAGE_WIDTH = 128\n",
    "IMAGE_HEIGHT = 128\n",
    "EPOCHS = 30\n",
    "BATCH_SIZE = 32\n",
    "SEED = 42\n",
    "dataset_folders = []  # to keep main folder names\n",
    "total = 0\n",
    "print(f\"There are {len(os.listdir(DATASET_PATH))} folder in dataset.\")\n",
    "for path in sorted(os.listdir(DATASET_PATH)):\n",
    "    print(f\"\\t-There are {len(os.listdir(DATASET_PATH + path))} images in {path} folder.\")\n",
    "    total += len(os.listdir(DATASET_PATH + path))  # add element size of the current folder to total variable\n",
    "    dataset_folders.append(DATASET_PATH + path)  # add current folder path to dataset_folders\n",
    "\n",
    "# Create an empty dataframe\n",
    "df = pd.DataFrame(0,\n",
    "                  columns=['paths',\n",
    "                           'class_label'],\n",
    "                  index=range(total))\n",
    "# store each image path in the dataframe\n",
    "# class labels -> 0:Normal 1:Cataract 2:Glaucoma 3:RetinaDisease\n",
    "i = 0\n",
    "for p, path in enumerate(dataset_folders):  # main folders\n",
    "    for sub_path in sorted(os.listdir(path)):  #images\n",
    "        df.iloc[i, 0] = path + \"/\" + sub_path\n",
    "        df.iloc[i, 1] = p\n",
    "        i += 1\n",
    "# Display some examples for the created DataFrame\n",
    "# print(df.sample(frac=1, random_state=SEED).head(10))\n",
    "train_df, test_df = train_test_split(df,\n",
    "                                     test_size=0.2,\n",
    "                                     random_state=SEED,\n",
    "                                     stratify=df['class_label'])"
   ],
   "metadata": {
    "collapsed": false
   }
  },
  {
   "cell_type": "code",
   "execution_count": 18,
   "outputs": [],
   "source": [
    "def create_dataset(df):\n",
    "    # Creating dataset\n",
    "    images = []\n",
    "    labels = []\n",
    "    index = 0\n",
    "    for path in tqdm(df['paths']):\n",
    "        #According to parameter, we apply some preprocesses here. default=0\n",
    "        img = cv2.imread(path)  #read image from file\n",
    "        img= cv2.cvtColor(img,cv2.COLOR_BGR2RGB)\n",
    "        label = [0, 0, 0, 0]\n",
    "        label[df.iloc[index][\"class_label\"]] += 1\n",
    "        index += 1\n",
    "        images.append(img)\n",
    "        labels.append(label)\n",
    "    images = np.array(images)\n",
    "    labels = np.array(labels)\n",
    "    return images, labels"
   ],
   "metadata": {
    "collapsed": false
   }
  },
  {
   "cell_type": "code",
   "execution_count": 19,
   "outputs": [
    {
     "name": "stderr",
     "output_type": "stream",
     "text": [
      "100%|██████████| 480/480 [00:41<00:00, 11.51it/s]\n",
      "100%|██████████| 121/121 [00:14<00:00,  8.36it/s]\n"
     ]
    }
   ],
   "source": [
    "# Creating dataset and split the data\n",
    "train_images, train_labels = create_dataset(train_df)\n",
    "test_images, test_labels = create_dataset(test_df)\n",
    "labels = [\"Normal\", \"Cataract\", \"Glaucoma\", \"Retina Disease\"]"
   ],
   "metadata": {
    "collapsed": false
   }
  },
  {
   "cell_type": "code",
   "execution_count": 20,
   "outputs": [
    {
     "name": "stdout",
     "output_type": "stream",
     "text": [
      "X train shape -> (480,)\n",
      "X test shape -> (121,)\n",
      "Y train shape -> (480, 4)\n",
      "Y test shape -> (121, 4)\n"
     ]
    }
   ],
   "source": [
    "X_train, y_train = train_images, train_labels\n",
    "X_test, y_test = test_images, test_labels\n",
    "print(f\"X train shape -> {X_train.shape}\")\n",
    "print(f\"X test shape -> {X_test.shape}\")\n",
    "print(f\"Y train shape -> {np.array(y_train).shape}\")\n",
    "print(f\"Y test shape -> {np.array(y_test).shape}\")"
   ],
   "metadata": {
    "collapsed": false
   }
  },
  {
   "cell_type": "markdown",
   "source": [
    "train_labels = np.argmax(y_train, axis=1)\n",
    "test_labels = np.argmax(y_test, axis=1)\n",
    "indexes = [0, 0, 0, 0]\n",
    "label_map = {0: \"normal\", 1: \"cataract\", 2: \"glaucoma\", 3: \"retina_disease\"}\n",
    "for i in range(len(X_train)):\n",
    "    length = len(str(indexes[train_labels[i]]))\n",
    "    file_name = (4 - length) * \"0\" + str(indexes[train_labels[i]]) + \".png\"\n",
    "    to_path = r\"./dataset_with_aug/\" + label_map[train_labels[i]] + \"/\" + file_name\n",
    "    cv2.imwrite(to_path, cv2.cvtColor(X_train[i], cv2.COLOR_RGB2BGR))\n",
    "    indexes[train_labels[i]] += 1\n",
    "\n",
    "for i in range(len(X_test)):\n",
    "    length = len(str(indexes[test_labels[i]]))\n",
    "    file_name = (4 - length) * \"0\" + str(indexes[test_labels[i]]) + \".png\"\n",
    "    to_path = r\"./dataset_with_aug/\" + label_map[test_labels[i]] + \"/\" + file_name\n",
    "    cv2.imwrite(to_path, cv2.cvtColor(X_test[i], cv2.COLOR_RGB2BGR))\n",
    "    indexes[test_labels[i]] += 1"
   ],
   "metadata": {
    "collapsed": false
   }
  },
  {
   "cell_type": "code",
   "execution_count": 21,
   "outputs": [],
   "source": [
    "def calc_stats(img):\n",
    "    denoi_img = cv2.fastNlMeansDenoisingColored(img)  # get the denoised image\n",
    "    hsv_img = rgb2hsv(denoi_img)  # get the hsv image\n",
    "    hue_img = hsv_img[:, :, 0]  #get the hues\n",
    "    saturation_img = hsv_img[:, :, 1]  #get the saturations\n",
    "    value_img = hsv_img[:, :, 2]  #get the values\n",
    "    ent_img = entropy(rgb2gray(denoi_img), disk(5))  #get the entropy\n",
    "    return [img.shape[1], img.shape[0], np.mean(hue_img), np.mean(saturation_img), np.mean(value_img), np.mean(ent_img)]"
   ],
   "metadata": {
    "collapsed": false
   }
  },
  {
   "cell_type": "code",
   "execution_count": 22,
   "outputs": [
    {
     "name": "stdout",
     "output_type": "stream",
     "text": [
      "(601,)\n"
     ]
    }
   ],
   "source": [
    "images = np.concatenate((X_train, X_test))\n",
    "print(images.shape)"
   ],
   "metadata": {
    "collapsed": false
   }
  },
  {
   "cell_type": "code",
   "execution_count": 23,
   "outputs": [
    {
     "name": "stderr",
     "output_type": "stream",
     "text": [
      "100%|██████████| 601/601 [1:25:29<00:00,  8.54s/it]\n"
     ]
    }
   ],
   "source": [
    "stats = []\n",
    "for img in tqdm(images):\n",
    "    stats.append(calc_stats(img))"
   ],
   "metadata": {
    "collapsed": false
   }
  },
  {
   "cell_type": "code",
   "execution_count": 24,
   "outputs": [
    {
     "data": {
      "text/plain": "   width  height  mean_hue  mean_saturation  mean_value  mean_entropy\n0   2464    1632  0.147102         0.642665    0.375577      0.695480\n1   2592    1728  0.029931         0.309154    0.334561      0.657310\n2   2592    1728  0.047322         0.262525    0.252886      0.240565\n3   2592    1728  0.038443         0.282621    0.277711      0.355758\n4   2592    1728  0.031457         0.304022    0.383857      0.605995",
      "text/html": "<div>\n<style scoped>\n    .dataframe tbody tr th:only-of-type {\n        vertical-align: middle;\n    }\n\n    .dataframe tbody tr th {\n        vertical-align: top;\n    }\n\n    .dataframe thead th {\n        text-align: right;\n    }\n</style>\n<table border=\"1\" class=\"dataframe\">\n  <thead>\n    <tr style=\"text-align: right;\">\n      <th></th>\n      <th>width</th>\n      <th>height</th>\n      <th>mean_hue</th>\n      <th>mean_saturation</th>\n      <th>mean_value</th>\n      <th>mean_entropy</th>\n    </tr>\n  </thead>\n  <tbody>\n    <tr>\n      <th>0</th>\n      <td>2464</td>\n      <td>1632</td>\n      <td>0.147102</td>\n      <td>0.642665</td>\n      <td>0.375577</td>\n      <td>0.695480</td>\n    </tr>\n    <tr>\n      <th>1</th>\n      <td>2592</td>\n      <td>1728</td>\n      <td>0.029931</td>\n      <td>0.309154</td>\n      <td>0.334561</td>\n      <td>0.657310</td>\n    </tr>\n    <tr>\n      <th>2</th>\n      <td>2592</td>\n      <td>1728</td>\n      <td>0.047322</td>\n      <td>0.262525</td>\n      <td>0.252886</td>\n      <td>0.240565</td>\n    </tr>\n    <tr>\n      <th>3</th>\n      <td>2592</td>\n      <td>1728</td>\n      <td>0.038443</td>\n      <td>0.282621</td>\n      <td>0.277711</td>\n      <td>0.355758</td>\n    </tr>\n    <tr>\n      <th>4</th>\n      <td>2592</td>\n      <td>1728</td>\n      <td>0.031457</td>\n      <td>0.304022</td>\n      <td>0.383857</td>\n      <td>0.605995</td>\n    </tr>\n  </tbody>\n</table>\n</div>"
     },
     "execution_count": 24,
     "metadata": {},
     "output_type": "execute_result"
    }
   ],
   "source": [
    "# make a dataframe and save it into a csv file\n",
    "df = pd.DataFrame(stats)\n",
    "df.columns = ['width', 'height', 'mean_hue', 'mean_saturation', 'mean_value', 'mean_entropy']\n",
    "df.head()"
   ],
   "metadata": {
    "collapsed": false
   }
  },
  {
   "cell_type": "markdown",
   "source": [
    "![HSV Color Chart for opencv](hsv_color_chart.jpg)"
   ],
   "metadata": {
    "collapsed": false
   }
  },
  {
   "cell_type": "code",
   "execution_count": 25,
   "outputs": [
    {
     "data": {
      "text/plain": "<Axes: >"
     },
     "execution_count": 25,
     "metadata": {},
     "output_type": "execute_result"
    },
    {
     "data": {
      "text/plain": "<Figure size 640x480 with 1 Axes>",
      "image/png": "[encoded data removed]"
     },
     "metadata": {},
     "output_type": "display_data"
    }
   ],
   "source": [
    "#HUE\n",
    "df.mean_hue.hist(range=(0, 0.3))"
   ],
   "metadata": {
    "collapsed": false
   }
  },
  {
   "cell_type": "code",
   "execution_count": 26,
   "outputs": [
    {
     "data": {
      "text/plain": "<Axes: >"
     },
     "execution_count": 26,
     "metadata": {},
     "output_type": "execute_result"
    },
    {
     "data": {
      "text/plain": "<Figure size 640x480 with 1 Axes>",
      "image/png": "[encoded data removed]"
     },
     "metadata": {},
     "output_type": "display_data"
    }
   ],
   "source": [
    "#SATURATION\n",
    "df.mean_saturation.hist(range=(0, 1), density=True)"
   ],
   "metadata": {
    "collapsed": false
   }
  },
  {
   "cell_type": "code",
   "execution_count": 27,
   "outputs": [
    {
     "data": {
      "text/plain": "<Axes: >"
     },
     "execution_count": 27,
     "metadata": {},
     "output_type": "execute_result"
    },
    {
     "data": {
      "text/plain": "<Figure size 640x480 with 1 Axes>",
      "image/png": "[encoded data removed]"
     },
     "metadata": {},
     "output_type": "display_data"
    }
   ],
   "source": [
    "#VALUE / BRIGHTNESS\n",
    "df.mean_value.hist(range=(0, 1), density=True)"
   ],
   "metadata": {
    "collapsed": false
   }
  },
  {
   "cell_type": "code",
   "execution_count": 28,
   "outputs": [
    {
     "data": {
      "text/plain": "<Axes: >"
     },
     "execution_count": 28,
     "metadata": {},
     "output_type": "execute_result"
    },
    {
     "data": {
      "text/plain": "<Figure size 640x480 with 1 Axes>",
      "image/png": "[encoded data removed]"
     },
     "metadata": {},
     "output_type": "display_data"
    }
   ],
   "source": [
    "#ENTROPY\n",
    "df.mean_entropy.hist(range=(0, 5), density=True)"
   ],
   "metadata": {
    "collapsed": false
   }
  },
  {
   "cell_type": "markdown",
   "source": [
    "# Yorumlar"
   ],
   "metadata": {
    "collapsed": false
   }
  },
  {
   "cell_type": "markdown",
   "source": [
    "### Hue değeri belli bir derece içinde yoğunlaşmış halde bulunmaktadır. Bu da verinin üstünde farklı baskın renkler olmadığını hepsinin birbirine benzer bir baskınlık içinde bulunduğunu gösterir.\n",
    "\n",
    "### Saturation değeri yönelimli bir gaussian eğrisi çizmektedir. Verinin renk doygunluğu belli bir seviyenin üstündedir bu yüzden verimiz gri tonlarında değildir diyebiliriz.\n",
    "\n",
    "### Value/Brightness histogramı içinde eşit olarak dağılmış diyebiliriz. Verimiz içinde ne çok karanlık ne de çok parlak imajlar bulunmamaktadır.\n",
    "\n",
    "### Entropy histogramı bizim verimizin ne çok karışık ne de çok basit olduğunu göstermektedir"
   ],
   "metadata": {
    "collapsed": false
   }
  },
  {
   "cell_type": "code",
   "execution_count": 28,
   "outputs": [],
   "source": [],
   "metadata": {
    "collapsed": false
   }
  }
 ],
 "metadata": {
  "kernelspec": {
   "display_name": "Python 3",
   "language": "python",
   "name": "python3"
  },
  "language_info": {
   "codemirror_mode": {
    "name": "ipython",
    "version": 2
   },
   "file_extension": ".py",
   "mimetype": "text/x-python",
   "name": "python",
   "nbconvert_exporter": "python",
   "pygments_lexer": "ipython2",
   "version": "2.7.6"
  }
 },
 "nbformat": 4,
 "nbformat_minor": 0
}
